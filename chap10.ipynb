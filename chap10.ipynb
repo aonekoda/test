{
 "cells": [
  {
   "cell_type": "markdown",
   "metadata": {},
   "source": [
    "# 통계적 추정\n",
    "\n",
    "추론통계에는 추정과 검정이 있다.  \n",
    "여기서는 추정을 설명하도록 한다. 추정은 다시 점추정과 구간추정으로 나뉜다.  \n",
    "* 점추정 : 추정하고 싶은 모평균, 모분산이라는 모수를 하나의 수치로 추정한다.\n",
    "* 구간추정 : 모수를 추정할때 구간으로 추정한다. "
   ]
  },
  {
   "cell_type": "code",
   "execution_count": 1,
   "metadata": {
    "ExecuteTime": {
     "end_time": "2018-08-14T18:04:47.320204Z",
     "start_time": "2018-08-14T18:04:46.813094Z"
    }
   },
   "outputs": [],
   "source": [
    "import numpy as np\n",
    "import pandas as pd\n",
    "import matplotlib.pyplot as plt\n",
    "from scipy import stats\n",
    "\n",
    "%precision 3\n",
    "%matplotlib inline"
   ]
  },
  {
   "cell_type": "markdown",
   "metadata": {},
   "source": [
    "400명 학생의 성적을 불러 들인다."
   ]
  },
  {
   "cell_type": "code",
   "execution_count": 3,
   "metadata": {
    "ExecuteTime": {
     "end_time": "2018-08-14T18:04:47.327204Z",
     "start_time": "2018-08-14T18:04:47.321803Z"
    }
   },
   "outputs": [],
   "source": [
    "df = pd.read_csv('./data/ch4_scores400.csv')\n",
    "scores = np.array(df['score'])"
   ]
  },
  {
   "cell_type": "markdown",
   "metadata": {},
   "source": [
    "모평균과 모분산을 먼저 구해본다. "
   ]
  },
  {
   "cell_type": "code",
   "execution_count": 3,
   "metadata": {
    "ExecuteTime": {
     "end_time": "2018-08-14T18:04:47.332144Z",
     "start_time": "2018-08-14T18:04:47.328296Z"
    }
   },
   "outputs": [
    {
     "data": {
      "text/plain": [
       "(69.53, 206.6691)"
      ]
     },
     "execution_count": 3,
     "metadata": {},
     "output_type": "execute_result"
    }
   ],
   "source": [
    "p_mean = np.mean(scores) # 모평균\n",
    "p_var = np.var(scores) # 모분산\n",
    "\n",
    "p_mean, p_var"
   ]
  },
  {
   "cell_type": "markdown",
   "metadata": {},
   "source": [
    "400명 학생의 성적분포는 정규분포에 근사한다."
   ]
  },
  {
   "cell_type": "code",
   "execution_count": 5,
   "metadata": {
    "ExecuteTime": {
     "end_time": "2018-08-14T18:04:47.534295Z",
     "start_time": "2018-08-14T18:04:47.333230Z"
    }
   },
   "outputs": [
    {
     "data": {
      "image/png": "[encoded data removed]",
      "text/plain": [
       "<Figure size 720x432 with 1 Axes>"
      ]
     },
     "metadata": {
      "needs_background": "light"
     },
     "output_type": "display_data"
    }
   ],
   "source": [
    "fig = plt.figure(figsize=(10, 6))\n",
    "ax = fig.add_subplot(111)\n",
    "\n",
    "xs = np.arange(101)\n",
    "rv = stats.norm(p_mean, np.sqrt(p_var))\n",
    "ax.plot(xs, rv.pdf(xs), color='gray')\n",
    "ax.hist(scores, bins=20, range=(0, 100), density=True)\n",
    "\n",
    "plt.show()"
   ]
  },
  {
   "cell_type": "markdown",
   "metadata": {},
   "source": [
    "### 표본의 추출\n",
    "\n",
    "400명 중 20명에 대한 임의 추출 표본을 생성한다. "
   ]
  },
  {
   "cell_type": "code",
   "execution_count": 5,
   "metadata": {
    "ExecuteTime": {
     "end_time": "2018-08-14T18:04:47.539373Z",
     "start_time": "2018-08-14T18:04:47.535604Z"
    }
   },
   "outputs": [
    {
     "data": {
      "text/plain": [
       "array([49, 60, 72, 86, 52, 61, 77, 91, 80, 56, 69, 67, 90, 56, 75, 79, 60,\n",
       "       79, 68, 81], dtype=int64)"
      ]
     },
     "execution_count": 5,
     "metadata": {},
     "output_type": "execute_result"
    }
   ],
   "source": [
    "np.random.seed(0)\n",
    "n = 20\n",
    "sample = np.random.choice(scores, n)\n",
    "sample"
   ]
  },
  {
   "cell_type": "markdown",
   "metadata": {},
   "source": [
    "표본의 크기가 20인 표본데이터를 10000개 생성한다. "
   ]
  },
  {
   "cell_type": "code",
   "execution_count": 6,
   "metadata": {
    "ExecuteTime": {
     "end_time": "2018-08-14T18:04:47.551920Z",
     "start_time": "2018-08-14T18:04:47.540558Z"
    }
   },
   "outputs": [],
   "source": [
    "np.random.seed(1111)\n",
    "n_samples = 10000\n",
    "samples = np.random.choice(scores, (n_samples, n))"
   ]
  },
  {
   "cell_type": "markdown",
   "metadata": {},
   "source": [
    "## 점추정"
   ]
  },
  {
   "cell_type": "markdown",
   "metadata": {},
   "source": [
    "### 모평균의 점추정\n",
    "\n",
    "10000개 표본에서 표본의 평균을 확인해 보면 다음과 같다.  \n",
    "표본평균의 기대값은 모평균과 같다.\n",
    "\n",
    "$$ E(\\bar X) = \\mu $$\n",
    "\n",
    "표본의 평균은 모평균의 불편추정량(unbiased estimator)이다.  "
   ]
  },
  {
   "cell_type": "code",
   "execution_count": 7,
   "metadata": {
    "ExecuteTime": {
     "end_time": "2018-08-14T18:04:47.556646Z",
     "start_time": "2018-08-14T18:04:47.553222Z"
    }
   },
   "outputs": [
    {
     "name": "stdout",
     "output_type": "stream",
     "text": [
      "1번째 표본평균: 67.000\n",
      "2번째 표본평균: 72.850\n",
      "3번째 표본평균: 69.200\n",
      "4번째 표본평균: 64.450\n",
      "5번째 표본평균: 72.650\n"
     ]
    }
   ],
   "source": [
    "for i in range(5):\n",
    "    s_mean = np.mean(samples[i])\n",
    "    print(f'{i+1}번째 표본평균: {s_mean:.3f}')"
   ]
  },
  {
   "cell_type": "code",
   "execution_count": 8,
   "metadata": {
    "ExecuteTime": {
     "end_time": "2018-08-14T18:04:47.561429Z",
     "start_time": "2018-08-14T18:04:47.558041Z"
    }
   },
   "outputs": [
    {
     "data": {
      "text/plain": [
       "69.53799999999998"
      ]
     },
     "execution_count": 8,
     "metadata": {},
     "output_type": "execute_result"
    }
   ],
   "source": [
    "sample_means = np.mean(samples, axis=1)\n",
    "np.mean(sample_means)"
   ]
  },
  {
   "cell_type": "markdown",
   "metadata": {},
   "source": [
    "표본의 크기 n을 증가시키면 표본의 평균은 모평균에 수렴한다. 이를 일치추정량(consistent estimator)라고 한다. "
   ]
  },
  {
   "cell_type": "code",
   "execution_count": 9,
   "metadata": {
    "ExecuteTime": {
     "end_time": "2018-08-14T18:04:47.577846Z",
     "start_time": "2018-08-14T18:04:47.562500Z"
    }
   },
   "outputs": [
    {
     "data": {
      "text/plain": [
       "69.542954"
      ]
     },
     "execution_count": 9,
     "metadata": {},
     "output_type": "execute_result"
    }
   ],
   "source": [
    "np.mean(np.random.choice(scores, int(1e6))) # 표본의 크기를 100만"
   ]
  },
  {
   "cell_type": "code",
   "execution_count": 10,
   "metadata": {
    "ExecuteTime": {
     "end_time": "2018-08-14T18:04:47.581915Z",
     "start_time": "2018-08-14T18:04:47.579010Z"
    }
   },
   "outputs": [
    {
     "data": {
      "text/plain": [
       "70.4"
      ]
     },
     "execution_count": 10,
     "metadata": {},
     "output_type": "execute_result"
    }
   ],
   "source": [
    "s_mean = np.mean(sample) # 위에서 생성한 n=20에서의 표본평균\n",
    "s_mean"
   ]
  },
  {
   "cell_type": "markdown",
   "metadata": {},
   "source": [
    "### 모분산의 점추정\n",
    "\n",
    "표본의 분산 $ S^2 = \\dfrac{1}{n}\\sum_{i=1}^n(X - \\bar X)^2$은 모분산에 대한 불편추정량이 아니다. "
   ]
  },
  {
   "cell_type": "code",
   "execution_count": 11,
   "metadata": {
    "ExecuteTime": {
     "end_time": "2018-08-14T18:04:47.586398Z",
     "start_time": "2018-08-14T18:04:47.583206Z"
    }
   },
   "outputs": [
    {
     "name": "stdout",
     "output_type": "stream",
     "text": [
      "1번째 표본분산: 116.800\n",
      "2번째 표본분산: 162.928\n",
      "3번째 표본분산: 187.060\n",
      "4번째 표본분산: 149.148\n",
      "5번째 표본분산: 111.528\n"
     ]
    }
   ],
   "source": [
    "for i in range(5):\n",
    "    s_var = np.var(samples[i])\n",
    "    print(f'{i+1}번째 표본분산: {s_var:.3f}')"
   ]
  },
  {
   "cell_type": "code",
   "execution_count": 12,
   "metadata": {
    "ExecuteTime": {
     "end_time": "2018-08-14T18:04:47.593666Z",
     "start_time": "2018-08-14T18:04:47.587634Z"
    }
   },
   "outputs": [
    {
     "data": {
      "text/plain": [
       "196.34417850000003"
      ]
     },
     "execution_count": 12,
     "metadata": {},
     "output_type": "execute_result"
    }
   ],
   "source": [
    "sample_vars = np.var(samples, axis=1)\n",
    "np.mean(sample_vars) # 모분산에 비하여 작은 값이 나온다."
   ]
  },
  {
   "cell_type": "markdown",
   "metadata": {},
   "source": [
    "#### 불편분산\n",
    "\n",
    "모평균의 불편추정량은 불편분산이다.\n",
    "\n",
    "$$s^2 = \\dfrac{1}{n-1}\\sum_{i=1}^n(X - \\bar X)^2 $$\n",
    "\n",
    "이때 n-1을 자유도(degree of freedom)이라고 한다.   \n",
    "numpy에서는 var함수의 ddof=1을 지정하므로 불편분산을 계산할 수 있다. "
   ]
  },
  {
   "cell_type": "code",
   "execution_count": 13,
   "metadata": {
    "ExecuteTime": {
     "end_time": "2018-08-14T18:04:47.598946Z",
     "start_time": "2018-08-14T18:04:47.594834Z"
    }
   },
   "outputs": [
    {
     "data": {
      "text/plain": [
       "206.67808263157895"
      ]
     },
     "execution_count": 13,
     "metadata": {},
     "output_type": "execute_result"
    }
   ],
   "source": [
    "sample_u_vars = np.var(samples, axis=1, ddof=1)\n",
    "np.mean(sample_u_vars)"
   ]
  },
  {
   "cell_type": "markdown",
   "metadata": {},
   "source": [
    "불편분산은 표본의 크기 n= 100만일때 모분산에 수렴하는 일치추정량임을 알 수 있다. "
   ]
  },
  {
   "cell_type": "code",
   "execution_count": 14,
   "metadata": {
    "ExecuteTime": {
     "end_time": "2018-08-14T18:04:47.619062Z",
     "start_time": "2018-08-14T18:04:47.600152Z"
    }
   },
   "outputs": [
    {
     "data": {
      "text/plain": [
       "207.08336592317"
      ]
     },
     "execution_count": 14,
     "metadata": {},
     "output_type": "execute_result"
    }
   ],
   "source": [
    "np.var(np.random.choice(scores, int(1e6)), ddof=1)"
   ]
  },
  {
   "cell_type": "code",
   "execution_count": 16,
   "metadata": {
    "ExecuteTime": {
     "end_time": "2018-08-14T18:04:47.624323Z",
     "start_time": "2018-08-14T18:04:47.620579Z"
    }
   },
   "outputs": [
    {
     "data": {
      "text/plain": [
       "158.25263157894742"
      ]
     },
     "execution_count": 16,
     "metadata": {},
     "output_type": "execute_result"
    }
   ],
   "source": [
    "u_var = np.var(sample, ddof=1) # 위에서 생성한 n=20에서의 불편분산\n",
    "u_var"
   ]
  },
  {
   "cell_type": "markdown",
   "metadata": {},
   "source": [
    "## 구간추정"
   ]
  },
  {
   "cell_type": "markdown",
   "metadata": {},
   "source": [
    "### 정규분포의 모평균(분산을 알고 있는)의 구간추정\n",
    "\n",
    "<img src=\"./images/구간추정.png\"  width=\"500\" height=\"170\">\n",
    "<img src=\"./images/구간추정1.png\"  width=\"300\" height=\"170\">"
   ]
  },
  {
   "cell_type": "code",
   "execution_count": 17,
   "metadata": {
    "ExecuteTime": {
     "end_time": "2018-08-14T18:04:47.634102Z",
     "start_time": "2018-08-14T18:04:47.626189Z"
    }
   },
   "outputs": [
    {
     "data": {
      "text/plain": [
       "(64.09956018535247, 76.70043981464754)"
      ]
     },
     "execution_count": 17,
     "metadata": {},
     "output_type": "execute_result"
    }
   ],
   "source": [
    "rv = stats.norm()\n",
    "lcl = s_mean - rv.isf(0.025) * np.sqrt(p_var/n)\n",
    "ucl = s_mean - rv.isf(0.975) * np.sqrt(p_var/n)\n",
    "\n",
    "lcl, ucl"
   ]
  },
  {
   "cell_type": "markdown",
   "metadata": {},
   "source": [
    "95%신뢰구간을 구하면 [64.1 , 76.7]임을 알수 있다.  \n",
    "이것은 구간추정을 여러번하면 100번 중 95번의 비율로 모평균이 해당 신뢰구간 안에 속한다는 뜻이다. \n",
    "아래 그래프에서 보듯이 모평균을 포함하지 않는 신뢰구간이 있을 수 있다. "
   ]
  },
  {
   "cell_type": "code",
   "execution_count": 18,
   "metadata": {
    "ExecuteTime": {
     "end_time": "2018-08-14T18:04:47.815248Z",
     "start_time": "2018-08-14T18:04:47.637157Z"
    }
   },
   "outputs": [
    {
     "data": {
      "image/png": "[encoded data removed]",
      "text/plain": [
       "<Figure size 720x720 with 1 Axes>"
      ]
     },
     "metadata": {
      "needs_background": "light"
     },
     "output_type": "display_data"
    }
   ],
   "source": [
    "fig = plt.figure(figsize=(10, 10))\n",
    "ax = fig.add_subplot(111)\n",
    "\n",
    "rv = stats.norm()\n",
    "n_samples = 20\n",
    "ax.vlines(p_mean, 0, 21)\n",
    "for i in range(n_samples):\n",
    "    sample_ = samples[i]\n",
    "    s_mean_ = np.mean(sample_)\n",
    "    lcl = s_mean_ - rv.isf(0.025) * np.sqrt(p_var/n)\n",
    "    ucl = s_mean_ - rv.isf(0.975) * np.sqrt(p_var/n)\n",
    "    if lcl <= p_mean <= ucl:\n",
    "        ax.scatter(s_mean_, n_samples-i, color='gray')\n",
    "        ax.hlines(n_samples-i, lcl, ucl, color='gray')\n",
    "    else:\n",
    "        ax.scatter(s_mean_, n_samples-i, color='b')\n",
    "        ax.hlines(n_samples-i, lcl, ucl, color='b')\n",
    "ax.set_xticks([p_mean])\n",
    "ax.set_xticklabels(['population mean'])\n",
    "\n",
    "plt.show()"
   ]
  },
  {
   "cell_type": "markdown",
   "metadata": {},
   "source": [
    "신뢰구간을 1만번 계산하고 신뢰구간이 모평균을 포함한 것은 몇 % 인지를 시뮬레이션해보면 다음과 같다. 약 95%가 모평균을 포함하고 있는 것일 알 수 있다. "
   ]
  },
  {
   "cell_type": "code",
   "execution_count": 19,
   "metadata": {
    "ExecuteTime": {
     "end_time": "2018-08-14T18:04:49.710540Z",
     "start_time": "2018-08-14T18:04:47.816297Z"
    }
   },
   "outputs": [
    {
     "data": {
      "text/plain": [
       "0.951"
      ]
     },
     "execution_count": 19,
     "metadata": {},
     "output_type": "execute_result"
    }
   ],
   "source": [
    "rv = stats.norm()\n",
    "cnt = 0\n",
    "\n",
    "for sample_ in samples:\n",
    "    s_mean_ = np.mean(sample_)\n",
    "    lcl = s_mean_ - rv.isf(0.025) * np.sqrt(p_var/n)\n",
    "    ucl = s_mean_ - rv.isf(0.975) * np.sqrt(p_var/n)\n",
    "    if lcl <= p_mean <= ucl:\n",
    "        cnt += 1\n",
    "cnt / len(samples)"
   ]
  },
  {
   "cell_type": "markdown",
   "metadata": {},
   "source": [
    "### 정규분포의 모평균(모분산을 알지 못하는) 구간추정\n",
    "\n",
    "<img src=\"./images/구간추정2.png\"  width=\"500\" height=\"170\">\n",
    "<img src=\"./images/구간추정3.png\"  width=\"300\" height=\"170\">\n",
    "<img src=\"./images/구간추정4.png\"  width=\"300\" height=\"170\">\n"
   ]
  },
  {
   "cell_type": "code",
   "execution_count": 26,
   "metadata": {
    "ExecuteTime": {
     "end_time": "2018-08-14T18:04:52.144213Z",
     "start_time": "2018-08-14T18:04:52.137771Z"
    }
   },
   "outputs": [
    {
     "data": {
      "text/plain": [
       "(64.51244886603887, 76.28755113396114)"
      ]
     },
     "execution_count": 26,
     "metadata": {},
     "output_type": "execute_result"
    }
   ],
   "source": [
    "rv = stats.t(df=n-1) # 자유도가 n-1인 t분포\n",
    "lcl = s_mean - rv.isf(0.025) * np.sqrt(u_var/n)\n",
    "ucl = s_mean - rv.isf(0.975) * np.sqrt(u_var/n)\n",
    "\n",
    "lcl, ucl"
   ]
  },
  {
   "cell_type": "markdown",
   "metadata": {},
   "source": [
    "### 모비율의 구간추정\n",
    "\n",
    "모비율은 베르누이 분포의 모평균의 구간추정과 동일하다.  \n",
    "모집단의 비율을 p라고 하면 출구조사나 길거리 설문조사에서 얻은 이진변수는 Bern(p)를 따르는 확률변수라고 생각할 수 있다. \n",
    "\n",
    "모평균의 신뢰수준 100(1-$\\alpha$)%의 신뢰구간은 다음과 같다.\n",
    "\n",
    "<img src=\"./images/구간추정5.jpg\">\n",
    "\n",
    "예를들어 다음 데이터는 \"어느 기업이 출시한 상품 A에 대해서 알고 있는가?\"를 시민 1000명에게 응답받은 내용이다. 이를 통해 상품 A에 대한 국민의 인지도 p를 추정해보자."
   ]
  },
  {
   "cell_type": "code",
   "execution_count": 27,
   "metadata": {
    "ExecuteTime": {
     "end_time": "2018-08-14T18:04:52.151779Z",
     "start_time": "2018-08-14T18:04:52.145503Z"
    }
   },
   "outputs": [
    {
     "data": {
      "text/plain": [
       "array([1, 0, 1, 1, 1, 1, 1, 0, 0, 1], dtype=int64)"
      ]
     },
     "execution_count": 27,
     "metadata": {},
     "output_type": "execute_result"
    }
   ],
   "source": [
    "enquete_df = pd.read_csv('./data/ch10_enquete.csv')\n",
    "enquete = np.array(enquete_df['known'])\n",
    "n = len(enquete)\n",
    "enquete[:10]"
   ]
  },
  {
   "cell_type": "code",
   "execution_count": 28,
   "metadata": {
    "ExecuteTime": {
     "end_time": "2018-08-14T18:04:52.155661Z",
     "start_time": "2018-08-14T18:04:52.152855Z"
    }
   },
   "outputs": [
    {
     "data": {
      "text/plain": [
       "0.709"
      ]
     },
     "execution_count": 28,
     "metadata": {},
     "output_type": "execute_result"
    }
   ],
   "source": [
    "# 모비율의 점추정\n",
    "s_mean = enquete.mean()\n",
    "s_mean"
   ]
  },
  {
   "cell_type": "code",
   "execution_count": 29,
   "metadata": {
    "ExecuteTime": {
     "end_time": "2018-08-14T18:04:52.162410Z",
     "start_time": "2018-08-14T18:04:52.156863Z"
    }
   },
   "outputs": [
    {
     "data": {
      "text/plain": [
       "(0.6808474522924337, 0.7371525477075662)"
      ]
     },
     "execution_count": 29,
     "metadata": {},
     "output_type": "execute_result"
    }
   ],
   "source": [
    "# 모비율의 구간추정\n",
    "rv = stats.norm()\n",
    "lcl = s_mean - rv.isf(0.025) * np.sqrt(s_mean*(1-s_mean)/n)\n",
    "ucl = s_mean - rv.isf(0.975) * np.sqrt(s_mean*(1-s_mean)/n)\n",
    "\n",
    "lcl, ucl"
   ]
  },
  {
   "cell_type": "markdown",
   "metadata": {},
   "source": [
    "## 정규분포의 모분산 구간추정\n",
    "\n",
    "$$ \\dfrac{(n-1)S^2}{\\sigma^2} \\thicksim  \\chi^2(n-1)$$ 이 성립한다. \n",
    "\n",
    "즉, 표본분산과 모분산의 비율에 (n-1)을 곱한 확률변수의 분포가 자유도 (n-1)인 카이제곱 분포이다. \n",
    "\n",
    "<img src=\"./images/구간추정6.png\" width=\"300\">"
   ]
  },
  {
   "cell_type": "markdown",
   "metadata": {},
   "source": [
    "앞서 구한 표본 분산$S^2$, sample_u_vars과 모분산 $\\sigma^2$, p_var 에 대하여 다음과 같은 데이터를 생성한다.   \n",
    "이 분포는 $ \\dfrac{(n-1)S^2}{\\sigma^2} \\thicksim  \\chi^2(n-1)$인 카이제곱 분포임을 알 수 있다. "
   ]
  },
  {
   "cell_type": "code",
   "execution_count": 20,
   "metadata": {
    "ExecuteTime": {
     "end_time": "2018-08-14T18:04:49.714818Z",
     "start_time": "2018-08-14T18:04:49.711859Z"
    }
   },
   "outputs": [
    {
     "data": {
      "text/plain": [
       "array([11.303, 15.767, 18.102, ..., 19.435,  9.265, 18.625])"
      ]
     },
     "execution_count": 20,
     "metadata": {},
     "output_type": "execute_result"
    }
   ],
   "source": [
    "sample_y = sample_u_vars * (n-1) / p_var\n",
    "sample_y"
   ]
  },
  {
   "cell_type": "code",
   "execution_count": 21,
   "metadata": {
    "ExecuteTime": {
     "end_time": "2018-08-14T18:04:49.879900Z",
     "start_time": "2018-08-14T18:04:49.715894Z"
    }
   },
   "outputs": [
    {
     "data": {
      "image/png": "[encoded data removed]",
      "text/plain": [
       "<Figure size 720x432 with 1 Axes>"
      ]
     },
     "metadata": {
      "needs_background": "light"
     },
     "output_type": "display_data"
    }
   ],
   "source": [
    "fig = plt.figure(figsize=(10, 6))\n",
    "ax = fig.add_subplot(111)\n",
    "\n",
    "xs = np.linspace(0, 40, 100)\n",
    "rv = stats.chi2(df=n-1)\n",
    "ax.plot(xs, rv.pdf(xs), color='gray')\n",
    "hist, _, _ = ax.hist(sample_y, bins=100,\n",
    "                     range=(0, 40), density=True)\n",
    "\n",
    "plt.show()"
   ]
  },
  {
   "cell_type": "code",
   "execution_count": 22,
   "metadata": {
    "ExecuteTime": {
     "end_time": "2018-08-14T18:04:49.886029Z",
     "start_time": "2018-08-14T18:04:49.881325Z"
    }
   },
   "outputs": [
    {
     "data": {
      "text/plain": [
       "(91.52471947132238, 337.5955129124592)"
      ]
     },
     "execution_count": 22,
     "metadata": {},
     "output_type": "execute_result"
    }
   ],
   "source": [
    "# 모분산의 신뢰구간 계산\n",
    "rv = stats.chi2(df=n-1)\n",
    "lcl = (n-1) * u_var / rv.isf(0.025)\n",
    "hcl = (n-1) * u_var / rv.isf(0.975)\n",
    "\n",
    "lcl, hcl"
   ]
  },
  {
   "cell_type": "markdown",
   "metadata": {},
   "source": [
    "카이제곱분포가 왼쪽으로 치우치고 오른쪽으로 넓어지는 분포이므로 불편분산에 대해 오른 쪽은 폭이 길고 불편분산이 클수록 구간 추정의 폭이 길다는 것을 확인할 수 있다. "
   ]
  },
  {
   "cell_type": "code",
   "execution_count": 23,
   "metadata": {
    "ExecuteTime": {
     "end_time": "2018-08-14T18:04:50.027045Z",
     "start_time": "2018-08-14T18:04:49.887014Z"
    }
   },
   "outputs": [
    {
     "data": {
      "image/png": "[encoded data removed]",
      "text/plain": [
       "<Figure size 720x720 with 1 Axes>"
      ]
     },
     "metadata": {
      "needs_background": "light"
     },
     "output_type": "display_data"
    }
   ],
   "source": [
    "fig = plt.figure(figsize=(10, 10))\n",
    "ax = fig.add_subplot(111)\n",
    "\n",
    "rv = stats.chi2(df=n-1)\n",
    "n_samples = 20\n",
    "ax.vlines(p_var, 0, 21)\n",
    "for i in range(n_samples):\n",
    "    sample_ = samples[i]\n",
    "    u_var_ = np.var(sample_, ddof=1)\n",
    "    lcl = (n-1) * u_var_ / rv.isf(0.025)\n",
    "    ucl = (n-1) * u_var_ / rv.isf(0.975)\n",
    "    if lcl <= p_var <= ucl:\n",
    "        ax.scatter(u_var_, n_samples-i, color='gray')\n",
    "        ax.hlines(n_samples-i, lcl, ucl, 'gray')\n",
    "    else:\n",
    "        ax.scatter(u_var_, n_samples-i, color='b')\n",
    "        ax.hlines(n_samples-i, lcl, ucl, 'b')\n",
    "ax.set_xticks([p_var])\n",
    "ax.set_xticklabels(['population variance'])\n",
    "\n",
    "plt.show()"
   ]
  },
  {
   "cell_type": "markdown",
   "metadata": {},
   "source": [
    "신뢰구간을 1만번 계산하여 신뢰구간이 모분산에 포하된 것은 몇 %인지 다음과 같은 시뮬레이션을 통해 확인 할 수 있다.   \n",
    "약 96%가 모분산을 포함하고 있음을 확인 할 수 있다. "
   ]
  },
  {
   "cell_type": "code",
   "execution_count": 23,
   "metadata": {
    "ExecuteTime": {
     "end_time": "2018-08-14T18:04:52.136237Z",
     "start_time": "2018-08-14T18:04:50.028148Z"
    }
   },
   "outputs": [
    {
     "data": {
      "text/plain": [
       "0.964"
      ]
     },
     "execution_count": 23,
     "metadata": {},
     "output_type": "execute_result"
    }
   ],
   "source": [
    "rv = stats.chi2(df=n-1)\n",
    "cnt = 0\n",
    "for sample_ in samples:\n",
    "    u_var_ = np.var(sample_, ddof=1)\n",
    "    lcl = (n-1) * u_var_ / rv.isf(0.025)\n",
    "    ucl = (n-1) * u_var_ / rv.isf(0.975)\n",
    "    if lcl <= p_var <= ucl:\n",
    "        cnt += 1\n",
    "        \n",
    "cnt / len(samples)"
   ]
  }
 ],
 "metadata": {
  "kernelspec": {
   "display_name": "Python 3",
   "language": "python",
   "name": "python3"
  },
  "language_info": {
   "codemirror_mode": {
    "name": "ipython",
    "version": 3
   },
   "file_extension": ".py",
   "mimetype": "text/x-python",
   "name": "python",
   "nbconvert_exporter": "python",
   "pygments_lexer": "ipython3",
   "version": "3.8.8"
  },
  "toc": {
   "nav_menu": {},
   "number_sections": true,
   "sideBar": true,
   "skip_h1_title": false,
   "toc_cell": false,
   "toc_position": {
    "height": "821px",
    "left": "0px",
    "right": "1222.58px",
    "top": "111px",
    "width": "344px"
   },
   "toc_section_display": "block",
   "toc_window_display": false
  }
 },
 "nbformat": 4,
 "nbformat_minor": 2
}
